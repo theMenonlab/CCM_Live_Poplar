{
 "cells": [
  {
   "cell_type": "code",
   "execution_count": 2,
   "id": "a28d6d2e-912d-4d5e-b1fd-6e1dedf040c2",
   "metadata": {},
   "outputs": [
    {
     "name": "stdout",
     "output_type": "stream",
     "text": [
      "Images saved as 'blurry.npy' and 'not_blurry.npy'\n",
      "17366\n"
     ]
    }
   ],
   "source": [
    "import numpy as np\n",
    "import matplotlib.pyplot as plt\n",
    "import cv2\n",
    "from IPython.display import clear_output\n",
    "\n",
    "# File paths\n",
    "ref_file = '/home/alingold/Training/20230914_youngPlant_ref_pro'\n",
    "\n",
    "# Calculate number of images\n",
    "ref_size = np.memmap(ref_file + '.dat', dtype=np.single, mode=\"r\").size\n",
    "\n",
    "# Given that each image is 256x256, calculate the number of images\n",
    "ref_num_images = ref_size // (256 * 256)\n",
    "\n",
    "# Shape of each array\n",
    "ref_shape = (ref_num_images, 256, 256)\n",
    "\n",
    "# Load the memory-mapped arrays with the correct shape\n",
    "ref_images = np.memmap(ref_file + '.dat', dtype=np.single, mode=\"r\", shape=ref_shape)\n",
    "\n",
    "\n",
    "\n",
    "# Paths\n",
    "#ref_path = \"/home/alingold/Training/20230708_full_ref_pro.npy\"\n",
    "\n",
    "# Load reference images\n",
    "#ref_images = np.load(ref_path)\n",
    "\n",
    "# Check shape\n",
    "if ref_images.shape[1:] != (256, 256):\n",
    "    raise ValueError(\"Expected shape of reference images to be [n, 256, 256]\")\n",
    "\n",
    "# Arrays to store blurry and not_blurry images\n",
    "blurry_images = []\n",
    "not_blurry_images = []\n",
    "\n",
    "# Randomly select 500 indices from the available images\n",
    "selected_indices = np.random.choice(ref_images.shape[0], 500, replace=False)\n",
    "\n",
    "for index in selected_indices:\n",
    "    image = ref_images[index]\n",
    "\n",
    "    # Display the image using Matplotlibe writable memory-mapped arrays. If they're not, you c\n",
    "    plt.imshow(image, cmap=\"gray\")\n",
    "    plt.title(\"Press 'b' for blurry, 'n' for not blurry\")\n",
    "    display(plt.gcf())\n",
    "    \n",
    "    # Wait for user input\n",
    "    user_input = ''\n",
    "    while user_input not in ['b', 'n']:\n",
    "        user_input = input(\"Press 'b' for blurry, 'n' for not blurry: \")\n",
    "    \n",
    "    # Append to the corresponding list\n",
    "    if user_input == 'b':\n",
    "        blurry_images.append(image)\n",
    "    else:\n",
    "        not_blurry_images.append(image)\n",
    "        \n",
    "    clear_output(wait=True)\n",
    "    plt.close('all')\n",
    "\n",
    "    # Convert lists to numpy arrays\n",
    "    #blurry_images = np.array(blurry_images)\n",
    "    #not_blurry_images = np.array(not_blurry_images)\n",
    "    \n",
    "    # Save the arrays\n",
    "    np.save('20230914_blurry.npy', blurry_images)\n",
    "    np.save('20230914_not_blurry.npy', not_blurry_images)\n",
    "\n",
    "print(\"Images saved as 'blurry.npy' and 'not_blurry.npy'\")\n",
    "print(index)\n"
   ]
  }
 ],
 "metadata": {
  "kernelspec": {
   "display_name": "Python 3 (ipykernel)",
   "language": "python",
   "name": "python3"
  },
  "language_info": {
   "codemirror_mode": {
    "name": "ipython",
    "version": 3
   },
   "file_extension": ".py",
   "mimetype": "text/x-python",
   "name": "python",
   "nbconvert_exporter": "python",
   "pygments_lexer": "ipython3",
   "version": "3.9.16"
  }
 },
 "nbformat": 4,
 "nbformat_minor": 5
}
